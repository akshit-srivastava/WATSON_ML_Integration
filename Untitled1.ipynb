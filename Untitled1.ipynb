{
 "cells": [
  {
   "cell_type": "code",
   "execution_count": 33,
   "metadata": {},
   "outputs": [
    {
     "data": {
      "text/plain": [
       "5"
      ]
     },
     "execution_count": 33,
     "metadata": {},
     "output_type": "execute_result"
    }
   ],
   "source": [
    "# import Libraries\n",
    "import warnings\n",
    "import itertools\n",
    "import numpy as np\n",
    "import matplotlib.pyplot as plt\n",
    "import pandas as pd\n",
    "import statsmodels.api as sm\n",
    "import matplotlib\n",
    "# ignoring all generated warnings\n",
    "def priction_range(current_qty):\n",
    "    warnings.filterwarnings(\"ignore\")\n",
    "    # styles from FiveThirtyEight.com\n",
    "    plt.style.use('fivethirtyeight')\n",
    "    # changing matplotlib configurations\n",
    "    matplotlib.rcParams['axes.labelsize'] = 14\n",
    "    matplotlib.rcParams['xtick.labelsize'] = 12\n",
    "    matplotlib.rcParams['ytick.labelsize'] = 12\n",
    "    matplotlib.rcParams['text.color'] = 'k'\n",
    "\n",
    "    # Read data\n",
    "    data = pd.read_csv('https://raw.githubusercontent.com/akshit-srivastava/WATSON_ML_Integration/master/Prediction_for_Purchase_Agreement.csv')\n",
    "    # Resetting dataframe index though not required for sample data might be useful in realtime data if we eliminated some rows\n",
    "    # Hence commenting it now\n",
    "    # data = data.reset_index(drop=True)\n",
    "\n",
    "    # Tail is better used for verifying appended data not wsure whats the use\n",
    "    #data.head(20)\n",
    "    data.Date = pd.to_datetime(data.Date)\n",
    "    #print (data)\n",
    "    #print (data.Consumed_Quantity)\n",
    "    data = data.set_index ('Date')\n",
    "    #data.index\n",
    "\n",
    "    #y1 = data.Consumed_Quantity#.resample('MS').mean()\n",
    "    #y = data.Consumed_Quantity.resample('MS').mean()\n",
    "    #y.plot(figsize=(15, 6))\n",
    "    #y2.plot(figsize=(15, 6))\n",
    "    #plt.show()\n",
    "    p = d = q = range(0, 2)\n",
    "    #print(list())\n",
    "    # this will return the cartesian product of all the iterables\n",
    "    pdq = list(itertools.product(p, d, q))\n",
    "    #print(pdq)\n",
    "    #same value with additional elemet 12\n",
    "    seasonal_pdq = [(x[0], x[1], x[2], 12) for x in list(itertools.product(p, d, q))]\n",
    "    #print(seasonal_pdq)\n",
    "    result_list = []\n",
    "    for param in pdq:\n",
    "        for param_seasonal in seasonal_pdq:\n",
    "            try:\n",
    "                mod = sm.tsa.statespace.SARIMAX(y,\n",
    "                                                order=param,\n",
    "                                                seasonal_order=param_seasonal,\n",
    "                                                enforce_stationarity=False,\n",
    "                                                enforce_invertibility=False)\n",
    "                results = mod.fit()\n",
    "                result_list.append(( results.aic,param, param_seasonal))\n",
    "            except:\n",
    "                continue\n",
    "    aic_val,ord_val,sord = sorted(result_list)[0]\n",
    "    mod = sm.tsa.statespace.SARIMAX(y,\n",
    "                                    order=ord_val,\n",
    "                                    seasonal_order=sord,\n",
    "                                    enforce_stationarity=False,\n",
    "                                    enforce_invertibility=False)\n",
    "    results = mod.fit()\n",
    "\n",
    "\n",
    "    forecasted_sum = 0\n",
    "    pred_uc = results.get_forecast(steps=10)\n",
    "    #print(list(pred_uc.predicted_mean))\n",
    "    for idx,val in enumerate(pred_uc.predicted_mean):\n",
    "        forecasted_sum +=val\n",
    "        if forecasted_sum >current_qty:\n",
    "            break\n",
    "    return idx\n",
    "\n",
    "\n",
    "priction_range(10000)"
   ]
  },
  {
   "cell_type": "code",
   "execution_count": null,
   "metadata": {},
   "outputs": [],
   "source": []
  }
 ],
 "metadata": {
  "kernelspec": {
   "display_name": "Python 3",
   "language": "python",
   "name": "python3"
  },
  "language_info": {
   "codemirror_mode": {
    "name": "ipython",
    "version": 3
   },
   "file_extension": ".py",
   "mimetype": "text/x-python",
   "name": "python",
   "nbconvert_exporter": "python",
   "pygments_lexer": "ipython3",
   "version": "3.7.0"
  }
 },
 "nbformat": 4,
 "nbformat_minor": 2
}
